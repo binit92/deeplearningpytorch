{
 "cells": [
  {
   "cell_type": "markdown",
   "metadata": {},
   "source": [
    "# Neural networks with PyTorch\n",
    "\n",
    "Deep learning networks tend to be massive with dozens or hundreds of layers, that's where the term \"deep\" comes from. You can build one of these deep networks using only weight matrices as we did in the previous notebook, but in general it's very cumbersome and difficult to implement. PyTorch has a nice module `nn` that provides a nice way to efficiently build large neural networks."
   ]
  },
  {
   "cell_type": "code",
   "execution_count": 1,
   "metadata": {},
   "outputs": [],
   "source": [
    "# Import necessary packages\n",
    "\n",
    "%matplotlib inline\n",
    "%config InlineBackend.figure_format = 'retina'\n",
    "\n",
    "import numpy as np\n",
    "import torch\n",
    "\n",
    "import helper\n",
    "\n",
    "import matplotlib.pyplot as plt"
   ]
  },
  {
   "cell_type": "markdown",
   "metadata": {},
   "source": [
    "\n",
    "Now we're going to build a larger network that can solve a (formerly) difficult problem, identifying text in an image. Here we'll use the MNIST dataset which consists of greyscale handwritten digits. Each image is 28x28 pixels, you can see a sample below\n",
    "\n",
    "<img src='assets/mnist.png'>\n",
    "\n",
    "Our goal is to build a neural network that can take one of these images and predict the digit in the image.\n",
    "\n",
    "First up, we need to get our dataset. This is provided through the `torchvision` package. The code below will download the MNIST dataset, then create training and test datasets for us. Don't worry too much about the details here, you'll learn more about this later."
   ]
  },
  {
   "cell_type": "code",
   "execution_count": 2,
   "metadata": {},
   "outputs": [
    {
     "name": "stdout",
     "output_type": "stream",
     "text": [
      "Downloading http://yann.lecun.com/exdb/mnist/train-images-idx3-ubyte.gz to /home/ktsai/.pytorch/MNIST_data/MNIST/raw/train-images-idx3-ubyte.gz\n"
     ]
    },
    {
     "name": "stderr",
     "output_type": "stream",
     "text": [
      "100.1%"
     ]
    },
    {
     "name": "stdout",
     "output_type": "stream",
     "text": [
      "Extracting /home/ktsai/.pytorch/MNIST_data/MNIST/raw/train-images-idx3-ubyte.gz to /home/ktsai/.pytorch/MNIST_data/MNIST/raw\n",
      "Downloading http://yann.lecun.com/exdb/mnist/train-labels-idx1-ubyte.gz to /home/ktsai/.pytorch/MNIST_data/MNIST/raw/train-labels-idx1-ubyte.gz\n"
     ]
    },
    {
     "name": "stderr",
     "output_type": "stream",
     "text": [
      "113.5%"
     ]
    },
    {
     "name": "stdout",
     "output_type": "stream",
     "text": [
      "Extracting /home/ktsai/.pytorch/MNIST_data/MNIST/raw/train-labels-idx1-ubyte.gz to /home/ktsai/.pytorch/MNIST_data/MNIST/raw\n",
      "Downloading http://yann.lecun.com/exdb/mnist/t10k-images-idx3-ubyte.gz to /home/ktsai/.pytorch/MNIST_data/MNIST/raw/t10k-images-idx3-ubyte.gz\n"
     ]
    },
    {
     "name": "stderr",
     "output_type": "stream",
     "text": [
      "100.4%"
     ]
    },
    {
     "name": "stdout",
     "output_type": "stream",
     "text": [
      "Extracting /home/ktsai/.pytorch/MNIST_data/MNIST/raw/t10k-images-idx3-ubyte.gz to /home/ktsai/.pytorch/MNIST_data/MNIST/raw\n",
      "Downloading http://yann.lecun.com/exdb/mnist/t10k-labels-idx1-ubyte.gz to /home/ktsai/.pytorch/MNIST_data/MNIST/raw/t10k-labels-idx1-ubyte.gz\n"
     ]
    },
    {
     "name": "stderr",
     "output_type": "stream",
     "text": [
      "180.4%"
     ]
    },
    {
     "name": "stdout",
     "output_type": "stream",
     "text": [
      "Extracting /home/ktsai/.pytorch/MNIST_data/MNIST/raw/t10k-labels-idx1-ubyte.gz to /home/ktsai/.pytorch/MNIST_data/MNIST/raw\n",
      "Processing...\n",
      "Done!\n"
     ]
    },
    {
     "name": "stderr",
     "output_type": "stream",
     "text": [
      "/home/ktsai/pse_fw/data/miniconda3/envs/deep-learning/lib/python3.8/site-packages/torchvision/datasets/mnist.py:480: UserWarning: The given NumPy array is not writeable, and PyTorch does not support non-writeable tensors. This means you can write to the underlying (supposedly non-writeable) NumPy array using the tensor. You may want to copy the array to protect its data or make it writeable before converting it to a tensor. This type of warning will be suppressed for the rest of this program. (Triggered internally at  /pytorch/torch/csrc/utils/tensor_numpy.cpp:141.)\n",
      "  return torch.from_numpy(parsed.astype(m[2], copy=False)).view(*s)\n"
     ]
    }
   ],
   "source": [
    "### Run this cell\n",
    "\n",
    "from torchvision import datasets, transforms\n",
    "\n",
    "# Define a transform to normalize the data\n",
    "transform = transforms.Compose([transforms.ToTensor(),\n",
    "                              transforms.Normalize((0.5,), (0.5,)),\n",
    "                              ])\n",
    "\n",
    "# Download and load the training data\n",
    "trainset = datasets.MNIST('~/.pytorch/MNIST_data/', download=True, train=True, transform=transform)\n",
    "trainloader = torch.utils.data.DataLoader(trainset, batch_size=64, shuffle=True)"
   ]
  },
  {
   "cell_type": "markdown",
   "metadata": {},
   "source": [
    "We have the training data loaded into `trainloader` and we make that an iterator with `iter(trainloader)`. Later, we'll use this to loop through the dataset for training, like\n",
    "\n",
    "```python\n",
    "for image, label in trainloader:\n",
    "    ## do things with images and labels\n",
    "```\n",
    "\n",
    "You'll notice I created the `trainloader` with a batch size of 64, and `shuffle=True`. The batch size is the number of images we get in one iteration from the data loader and pass through our network, often called a *batch*. And `shuffle=True` tells it to shuffle the dataset every time we start going through the data loader again. But here I'm just grabbing the first batch so we can check out the data. We can see below that `images` is just a tensor with size `(64, 1, 28, 28)`. So, 64 images per batch, 1 color channel, and 28x28 images."
   ]
  },
  {
   "cell_type": "code",
   "execution_count": 3,
   "metadata": {},
   "outputs": [
    {
     "name": "stdout",
     "output_type": "stream",
     "text": [
      "<class 'torch.Tensor'>\n",
      "torch.Size([64, 1, 28, 28])\n",
      "torch.Size([64])\n"
     ]
    }
   ],
   "source": [
    "dataiter = iter(trainloader)\n",
    "images, labels = dataiter.next()\n",
    "print(type(images))\n",
    "print(images.shape)\n",
    "print(labels.shape)"
   ]
  },
  {
   "cell_type": "markdown",
   "metadata": {},
   "source": [
    "This is what one of the images looks like. "
   ]
  },
  {
   "cell_type": "code",
   "execution_count": 4,
   "metadata": {},
   "outputs": [
    {
     "data": {
      "image/png": "[encoded data removed]",
      "text/plain": [
       "<Figure size 432x288 with 1 Axes>"
      ]
     },
     "metadata": {
      "image/png": {
       "height": 248,
       "width": 251
      },
      "needs_background": "light"
     },
     "output_type": "display_data"
    }
   ],
   "source": [
    "plt.imshow(images[1].numpy().squeeze(), cmap='Greys_r');"
   ]
  },
  {
   "cell_type": "markdown",
   "metadata": {},
   "source": [
    "First, let's try to build a simple network for this dataset using weight matrices and matrix multiplications. Then, we'll see how to do it using PyTorch's `nn` module which provides a much more convenient and powerful method for defining network architectures.\n",
    "\n",
    "The networks you've seen so far are called *fully-connected* or *dense* networks. Each unit in one layer is connected to each unit in the next layer. In fully-connected networks, the input to each layer must be a one-dimensional vector (which can be stacked into a 2D tensor as a batch of multiple examples). However, our images are 28x28 2D tensors, so we need to convert them into 1D vectors. Thinking about sizes, we need to convert the batch of images with shape `(64, 1, 28, 28)` to a have a shape of `(64, 784)`, 784 is 28 times 28. This is typically called *flattening*, we flattened the 2D images into 1D vectors.\n",
    "\n",
    "Previously you built a network with one output unit. Here we need 10 output units, one for each digit. We want our network to predict the digit shown in an image, so what we'll do is calculate probabilities that the image is of any one digit or class. This ends up being a discrete probability distribution over the classes (digits) that tells us the most likely class for the image. That means we need 10 output units for the 10 classes (digits). We'll see how to convert the network output into a probability distribution next.\n",
    "\n",
    "> **Exercise:** Flatten the batch of images `images`. Then build a multi-layer network with 784 input units, 256 hidden units, and 10 output units using random tensors for the weights and biases. For now, use a sigmoid activation for the hidden layer. Leave the output layer without an activation, we'll add one that gives us a probability distribution next."
   ]
  },
  {
   "cell_type": "code",
   "execution_count": 10,
   "metadata": {},
   "outputs": [
    {
     "name": "stdout",
     "output_type": "stream",
     "text": [
      "feature n 784\n",
      "weight_in_hi shape torch.Size([784, 256])\n",
      "weight_in_hi shape torch.Size([256, 10])\n",
      "output shape torch.Size([64, 10])\n",
      "tensor([[ -2.0306,  -3.4000,   6.7715,  -5.8250,   0.9229,  -0.7919,   1.8967,\n",
      "           4.0050, -10.9057,  10.0495],\n",
      "        [ -9.1300,   2.0076,   6.6894,  -7.7040,   5.4823,   0.4851, -11.0937,\n",
      "          -1.1233,  -7.1389,   2.3163],\n",
      "        [  1.6912,  -2.2898,  16.9222, -14.3729,  14.1622,  -4.1332, -12.5192,\n",
      "           3.2479, -11.0218,  10.1462],\n",
      "        [  1.2601,  10.1186,  12.7764,  -9.3677,   7.1452,  -8.4376,  -5.5345,\n",
      "           8.7031,  -7.4258,   4.7537],\n",
      "        [  5.7905,   5.3567,   1.6840,  -8.8487,  -1.0312,   6.7193,  -8.5156,\n",
      "           6.5258,   1.2204,  13.3368],\n",
      "        [  9.1484,   3.7245,   2.6766, -12.1009,   3.9673,   1.5459,  -4.7705,\n",
      "          12.5152, -10.8314,   4.2279],\n",
      "        [  2.5889,   8.9908,   4.4643, -10.6845,   6.2427,   1.6906,  -9.3632,\n",
      "           6.6655,  -6.1322,   6.1350],\n",
      "        [-14.1450, -13.9433,  -3.1216, -13.3514,   5.0848,  -9.8784,   0.5250,\n",
      "           3.2651,   0.1450,  -3.0804],\n",
      "        [  0.4801,   6.1525,  10.2475,  -9.3953,  15.1494,  -3.1370,  -6.4930,\n",
      "          14.4431, -15.6516,   2.5920],\n",
      "        [ -2.0979,  -5.0617,   8.4340,  -5.3203,  12.0668,  -2.3903,  -4.4588,\n",
      "           9.3393,  -2.6919,  -6.1389],\n",
      "        [  3.4252,   5.2106,  10.3417,  -4.3657,  16.6549,   0.2453, -11.7132,\n",
      "          14.7266,  -5.4013,   5.8095],\n",
      "        [  0.6190,  10.7887,   7.8196,  -6.6313,   7.2859,  -7.3198,  -8.1164,\n",
      "           8.6640, -12.6661,   5.3758],\n",
      "        [ -7.9056,  -3.9956,  16.3177,  -8.4670,  14.7005,  -5.6778,  -3.4190,\n",
      "           5.5193,  -0.1767,   3.5298],\n",
      "        [ -1.1575,   4.4810,  11.1550,  -8.8412,   9.3429,  -2.5884,   1.7932,\n",
      "           9.1794,  -8.5951,   6.8034],\n",
      "        [-14.6170, -12.3133,   8.3476,  -9.6309,  19.8265,  -3.7343,   0.9739,\n",
      "           1.7506, -13.5890,  -3.0905],\n",
      "        [ -8.4793,  -3.2643,   0.2316,   6.7132,  -1.7685,  -5.0713, -14.2157,\n",
      "          -5.7976,  -0.9439,  12.8647],\n",
      "        [ -5.0178,  -6.2227,  15.1992,  -2.3767,  13.7636,  -0.1723,  -2.2269,\n",
      "          14.5833,  -5.9053,   6.7221],\n",
      "        [ -5.9074,   8.0342,   9.3035,  -6.1523,  15.9680,   2.3506,  -7.5341,\n",
      "           0.4396,  -4.3175,  11.0365],\n",
      "        [ -4.9492,  -4.6647,   1.3207,  -9.2691,  -0.8181,  -2.3042,   2.3077,\n",
      "          -6.6080,  -5.5344,  11.9169],\n",
      "        [  3.9895,  -0.8555,   6.4227, -13.3852,   6.1967,   1.1749,  -0.6176,\n",
      "           1.5598,   1.2247,   0.5171],\n",
      "        [ -2.7771,  -4.8995,  10.8159,  -7.0998,   5.9563,   2.1204,  -2.4087,\n",
      "           8.1834,  -6.7111,   3.3392],\n",
      "        [ -7.5958,   7.5981,  13.9600,  -4.2294,   4.5104,  -2.6857,   0.1606,\n",
      "           2.4914,  -2.4642,   3.1540],\n",
      "        [-11.1348,  -8.5889,   6.7722,   7.3049,  11.5675,  -4.7392, -12.6587,\n",
      "           1.4311,  -3.6175,  18.7599],\n",
      "        [ -8.8226,  -5.6417,   7.5196,  -8.0313,  -2.1850,  -3.2370,  -0.5487,\n",
      "          -6.0872,   0.1231,   0.2030],\n",
      "        [  3.0078,  16.3263,   8.1728, -12.7482,   4.5733,  -4.2446,   2.1833,\n",
      "          11.7546, -10.1396,  15.9802],\n",
      "        [ -4.6581,   6.3033,   0.3687,  -4.5615,  10.6906,   1.1855,  -5.9431,\n",
      "           3.8257,  -4.1420,   5.6021],\n",
      "        [  2.3537,   6.7983,  12.7132,  -3.9052,   5.2904,   4.6661,  -6.7728,\n",
      "           0.7134,  -3.3693,   6.5652],\n",
      "        [  4.3442,   0.7762,   9.9009,  -5.9513,  13.4384,   0.1641,  -6.8657,\n",
      "          17.3354,  -7.8101,   9.5243],\n",
      "        [ -3.7650,  -5.0498,  10.6260,  10.8483,   8.8935,   3.5615,  -7.1072,\n",
      "           1.2415,  -5.7602,   8.5067],\n",
      "        [  3.9182,  14.6634,  15.2280,  -7.5308,  12.2458,   5.4780,  -4.2569,\n",
      "          13.5733,   0.8989,  -5.6482],\n",
      "        [ -2.9745,   4.3484,   7.6696,  -6.4903,   2.3584,   9.0655,  -7.5581,\n",
      "          11.7544,   4.8601,  -1.3557],\n",
      "        [  0.5758,   5.8551,   5.8757,  -6.2202,  10.2063,  -0.3300,   1.1162,\n",
      "           7.1158,  -3.5469,   1.7552],\n",
      "        [ -0.2388,  -3.6702,   3.5515, -15.6740,   3.7532,   0.9655,   9.5385,\n",
      "           5.4128,  -0.6584,   8.0429],\n",
      "        [ -9.8032,   7.9046,   6.4104,   3.2155,  16.6728,   1.3207,  -9.0160,\n",
      "          10.0034,  -8.4620,   9.2961],\n",
      "        [-10.5378,   3.3866,   5.5147,  -5.0595,   2.7730,  -3.4886,   7.6317,\n",
      "           1.9194,  -8.7549,  -0.0516],\n",
      "        [  4.5306,   8.3308,   4.1617,  -1.5503,   6.0611,  -2.0168,  -6.8796,\n",
      "          13.2366,   2.3554,   9.9622],\n",
      "        [  1.7947,   4.5796,  10.6863,  -3.0894,  14.4849,  -2.1325, -10.6430,\n",
      "           3.5458,  -5.1820,   6.8548],\n",
      "        [ -0.9975,  -3.1964,   2.1254, -15.6394,  -4.3505,   1.9076, -10.5562,\n",
      "           6.0901,  -8.0017,   8.1643],\n",
      "        [-13.3381,  -1.6013,  -3.2142, -10.9211,   6.8844,   2.8199,   4.3558,\n",
      "          -1.9066, -14.6872,  -5.1931],\n",
      "        [  6.4425,  -0.1152,  12.4844,  -8.6176,  12.6732,  -6.4248,  -7.8112,\n",
      "           3.5097,  -6.9731,  -0.1317],\n",
      "        [ -3.9782,  10.6362,   8.3251, -11.6093,   1.2675,  -2.6637,  -4.5961,\n",
      "          11.1778, -10.9586,   6.2167],\n",
      "        [ -7.6906,  -8.5657,   5.3923,   6.8445,   3.8001,  -1.3134,  -5.3472,\n",
      "          13.9546,  -5.6157,  14.0564],\n",
      "        [ -6.6703,  13.3469,  12.8095,  -5.3769,   6.5703,  -9.4589,  -6.7446,\n",
      "          10.9995,  -9.8903,   2.7696],\n",
      "        [  5.3446,   9.2058,  10.6586,  -7.9837,   6.9335,  -2.9591,  -3.3029,\n",
      "           6.9500, -13.4378,   4.2239],\n",
      "        [-11.1416,  -6.0650,   5.1855, -12.8255,   8.5281,  -0.3554,  -5.5440,\n",
      "          -0.6279,  -7.2665,  10.5394],\n",
      "        [ -2.9909,   2.0183,   5.4096,  -2.6954,   5.4672,   1.6545,  -7.1324,\n",
      "           5.6922,   4.3727,  -1.0332],\n",
      "        [-11.8829,   0.1189,   6.3146,   2.9332,   9.2389, -14.1553, -12.0385,\n",
      "           2.9611, -13.1689,  12.7354],\n",
      "        [  7.0509,   4.7686,   8.6360,  -2.0326,   3.0345,   7.4337,  -6.3537,\n",
      "           5.1720,  -6.5692,   8.7285],\n",
      "        [  1.7502,   1.1529,   5.9520, -12.0482,  -0.5781,   2.0661,  -2.7135,\n",
      "           6.4859,  -3.5225,   9.2482],\n",
      "        [ -5.1530,   6.6061,  13.7509,  -0.0238,   2.7870,  -7.1939,  -5.4650,\n",
      "           8.2737,  -8.9113,   3.6643],\n",
      "        [  5.2082,  -0.1026,  17.5220,  -5.0027,  19.1182,  -0.9166,  -8.2301,\n",
      "           4.1750,  -1.2093,  -0.1273],\n",
      "        [ 12.5690,   2.2646,   6.5707, -17.4455,  14.8352,  -6.2901,  -6.2172,\n",
      "          11.3016,  -5.0273,  15.1719],\n",
      "        [-14.8012,  -5.0164,   3.5426,  -6.5239,  -0.0355,   2.9507,  -5.0035,\n",
      "          13.3878, -11.7181,   1.6346],\n",
      "        [ -6.3437,  -3.2633,  -3.6342,  -8.9404,  -0.5812,  -1.7881,   0.0854,\n",
      "          11.8055,  -0.0917,   2.1126],\n",
      "        [  5.0975,  14.8398,   9.7228, -11.4669,   4.1121,  -2.3228,  -3.1002,\n",
      "          11.2649,  -2.1886,  -3.9795],\n",
      "        [ -5.2176,   1.2401,  10.8161,  -3.4903,  13.6581,  -8.7540,  -0.1707,\n",
      "          13.3548,  -8.6032,   3.9273],\n",
      "        [ -4.7595,  12.5381,  14.8401,  -3.3955,  13.7043,  -2.0538,   0.1712,\n",
      "           8.7908,  -7.2299,  11.6647],\n",
      "        [  4.6057,  -0.9865,  11.0728, -15.1134,   0.3344,  -1.8395,   3.4553,\n",
      "          11.1207,  -6.2985,  13.0438],\n",
      "        [ 11.8676,   3.0255,   8.2030,  -6.1104,  14.3460,   5.8940,  -6.0934,\n",
      "           3.1253,   3.2138,   2.1110],\n",
      "        [ -6.9886,   0.0810,  14.0725,  -2.4350,  21.7096,  -7.3180,  -1.6821,\n",
      "           6.6990,  -3.9785,  -2.2730],\n",
      "        [  1.9811,  10.5461,  19.9219,  -9.9675,  11.3653,   9.2685,   0.5873,\n",
      "           4.2099,  -0.4320,  10.3394],\n",
      "        [  2.3692,  14.0262,  15.0181, -12.6604,   1.5512,   0.8490,  -3.8346,\n",
      "          11.8832,  -5.9089,  13.0189],\n",
      "        [ -3.2549,  10.1104,   5.0377,   5.0071,   5.2119,  14.9510,  -6.7325,\n",
      "           4.3764,  -4.1335,  -0.5134],\n",
      "        [  0.9027,   3.3100,  10.8400,  -7.3042,  17.0716,  -0.9638,  -3.9705,\n",
      "           6.2850,   6.0824,   4.6290]])\n"
     ]
    }
   ],
   "source": [
    "## Your solution\n",
    "torch.manual_seed(7)\n",
    "\n",
    "activation = lambda x : 1/(1+torch.exp(-x))\n",
    "\n",
    "n_feature = images.shape[2] * images.shape[3]\n",
    "n_hidden = 256\n",
    "n_output = 10\n",
    "\n",
    "print('feature n {}'.format(n_feature))\n",
    "\n",
    "features = torch.randn((1, n_feature))\n",
    "\n",
    "weight_in_hi = torch.randn(n_feature, n_hidden)\n",
    "weight_hi_out = torch.randn(n_hidden, n_output)\n",
    "print('weight_in_hi shape {}'.format(weight_in_hi.shape))\n",
    "print('weight_in_hi shape {}'.format(weight_hi_out.shape))\n",
    "output = torch.zeros(images.shape[0], n_output)\n",
    "print('output shape {}'.format(output.shape))\n",
    "\n",
    "for i, image in enumerate(images):\n",
    "    features = image.view(1, n_feature)\n",
    "    hidden_input = torch.mm (features, weight_in_hi)\n",
    "    hidden_output = activation(hidden_input)\n",
    "    output[i] = torch.mm(hidden_output, weight_hi_out)\n",
    "\n",
    "out = output# output of your network, should have shape (64,10)\n",
    "print(out)"
   ]
  },
  {
   "cell_type": "markdown",
   "metadata": {},
   "source": [
    "Now we have 10 outputs for our network. We want to pass in an image to our network and get out a probability distribution over the classes that tells us the likely class(es) the image belongs to. Something that looks like this:\n",
    "<img src='assets/image_distribution.png' width=500px>\n",
    "\n",
    "Here we see that the probability for each class is roughly the same. This is representing an untrained network, it hasn't seen any data yet so it just returns a uniform distribution with equal probabilities for each class.\n",
    "\n",
    "To calculate this probability distribution, we often use the [**softmax** function](https://en.wikipedia.org/wiki/Softmax_function). Mathematically this looks like\n",
    "\n",
    "$$\n",
    "\\Large \\sigma(x_i) = \\cfrac{e^{x_i}}{\\sum_k^K{e^{x_k}}}\n",
    "$$\n",
    "\n",
    "What this does is squish each input $x_i$ between 0 and 1 and normalizes the values to give you a proper probability distribution where the probabilites sum up to one.\n",
    "\n",
    "> **Exercise:** Implement a function `softmax` that performs the softmax calculation and returns probability distributions for each example in the batch. Note that you'll need to pay attention to the shapes when doing this. If you have a tensor `a` with shape `(64, 10)` and a tensor `b` with shape `(64,)`, doing `a/b` will give you an error because PyTorch will try to do the division across the columns (called broadcasting) but you'll get a size mismatch. The way to think about this is for each of the 64 examples, you only want to divide by one value, the sum in the denominator. So you need `b` to have a shape of `(64, 1)`. This way PyTorch will divide the 10 values in each row of `a` by the one value in each row of `b`. Pay attention to how you take the sum as well. You'll need to define the `dim` keyword in `torch.sum`. Setting `dim=0` takes the sum across the rows while `dim=1` takes the sum across the columns."
   ]
  },
  {
   "cell_type": "code",
   "execution_count": 18,
   "metadata": {},
   "outputs": [
    {
     "name": "stdout",
     "output_type": "stream",
     "text": [
      "tensor([[ -2.0306,  -3.4000,   6.7715,  -5.8250,   0.9229,  -0.7919,   1.8967,\n",
      "           4.0050, -10.9057,  10.0495],\n",
      "        [ -9.1300,   2.0076,   6.6894,  -7.7040,   5.4823,   0.4851, -11.0937,\n",
      "          -1.1233,  -7.1389,   2.3163],\n",
      "        [  1.6912,  -2.2898,  16.9222, -14.3729,  14.1622,  -4.1332, -12.5192,\n",
      "           3.2479, -11.0218,  10.1462],\n",
      "        [  1.2601,  10.1186,  12.7764,  -9.3677,   7.1452,  -8.4376,  -5.5345,\n",
      "           8.7031,  -7.4258,   4.7537],\n",
      "        [  5.7905,   5.3567,   1.6840,  -8.8487,  -1.0312,   6.7193,  -8.5156,\n",
      "           6.5258,   1.2204,  13.3368],\n",
      "        [  9.1484,   3.7245,   2.6766, -12.1009,   3.9673,   1.5459,  -4.7705,\n",
      "          12.5152, -10.8314,   4.2279],\n",
      "        [  2.5889,   8.9908,   4.4643, -10.6845,   6.2427,   1.6906,  -9.3632,\n",
      "           6.6655,  -6.1322,   6.1350],\n",
      "        [-14.1450, -13.9433,  -3.1216, -13.3514,   5.0848,  -9.8784,   0.5250,\n",
      "           3.2651,   0.1450,  -3.0804],\n",
      "        [  0.4801,   6.1525,  10.2475,  -9.3953,  15.1494,  -3.1370,  -6.4930,\n",
      "          14.4431, -15.6516,   2.5920],\n",
      "        [ -2.0979,  -5.0617,   8.4340,  -5.3203,  12.0668,  -2.3903,  -4.4588,\n",
      "           9.3393,  -2.6919,  -6.1389]])\n",
      "torch.Size([64])\n",
      "tensor([[5.4504e-06, 1.3859e-06, 3.6239e-02, 1.2262e-07, 1.0450e-04, 1.8811e-05,\n",
      "         2.7672e-04, 2.2786e-03, 7.6212e-10, 9.6108e-01],\n",
      "        [1.0188e-07, 6.9992e-03, 7.5565e-01, 4.2402e-07, 2.2599e-01, 1.5270e-03,\n",
      "         1.4296e-08, 3.0571e-04, 7.4606e-07, 9.5308e-03],\n",
      "        [2.2810e-07, 4.2580e-09, 9.3947e-01, 2.4075e-14, 5.9456e-02, 6.7392e-10,\n",
      "         1.5368e-13, 1.0820e-06, 6.8696e-13, 1.0718e-03],\n",
      "        [9.1352e-06, 6.4254e-02, 9.1655e-01, 2.2138e-10, 3.2854e-03, 5.6111e-10,\n",
      "         1.0229e-08, 1.5600e-02, 1.5434e-09, 3.0059e-04],\n",
      "        [5.2632e-04, 3.4107e-04, 8.6658e-06, 2.3095e-10, 5.7361e-07, 1.3323e-03,\n",
      "         3.2225e-10, 1.0980e-03, 5.4511e-06, 9.9669e-01],\n",
      "        [3.3330e-02, 1.4697e-04, 5.1539e-05, 1.9696e-11, 1.8736e-04, 1.6637e-05,\n",
      "         3.0056e-08, 9.6602e-01, 7.0097e-11, 2.4316e-04],\n",
      "        [1.3455e-03, 8.1138e-01, 8.7775e-03, 2.3139e-09, 5.1967e-02, 5.4799e-04,\n",
      "         8.6731e-09, 7.9316e-02, 2.1947e-07, 4.6664e-02],\n",
      "        [3.7726e-09, 4.6157e-09, 2.3123e-04, 8.3421e-09, 8.4728e-01, 2.6890e-07,\n",
      "         8.8655e-03, 1.3732e-01, 6.0630e-03, 2.4094e-04],\n",
      "        [2.8367e-07, 8.2471e-05, 4.9519e-03, 1.4588e-11, 6.6620e-01, 7.6197e-09,\n",
      "         2.6573e-10, 3.2876e-01, 2.7983e-14, 2.3443e-06],\n",
      "        [6.4596e-07, 3.3347e-08, 2.4220e-02, 2.5747e-08, 9.1589e-01, 4.8222e-07,\n",
      "         6.0938e-08, 5.9884e-02, 3.5667e-07, 1.1356e-08]])\n",
      "torch.Size([64, 10])\n",
      "tensor([1.0000, 1.0000, 1.0000, 1.0000, 1.0000, 1.0000, 1.0000, 1.0000, 1.0000,\n",
      "        1.0000, 1.0000, 1.0000, 1.0000, 1.0000, 1.0000, 1.0000, 1.0000, 1.0000,\n",
      "        1.0000, 1.0000, 1.0000, 1.0000, 1.0000, 1.0000, 1.0000, 1.0000, 1.0000,\n",
      "        1.0000, 1.0000, 1.0000, 1.0000, 1.0000, 1.0000, 1.0000, 1.0000, 1.0000,\n",
      "        1.0000, 1.0000, 1.0000, 1.0000, 1.0000, 1.0000, 1.0000, 1.0000, 1.0000,\n",
      "        1.0000, 1.0000, 1.0000, 1.0000, 1.0000, 1.0000, 1.0000, 1.0000, 1.0000,\n",
      "        1.0000, 1.0000, 1.0000, 1.0000, 1.0000, 1.0000, 1.0000, 1.0000, 1.0000,\n",
      "        1.0000])\n"
     ]
    }
   ],
   "source": [
    "def softmax(x):\n",
    "    ## TODO: Implement the softmax function here\n",
    "    sum = torch.sum(torch.exp(x), dim=1)\n",
    "    print(sum.shape)\n",
    "    return torch.exp(x)/sum.view(64,1)\n",
    "\n",
    "print(out[:10])\n",
    "# Here, out should be the output of the network in the previous excercise with shape (64,10)\n",
    "probabilities = softmax(out)\n",
    "print(probabilities[:10])\n",
    "# Does it have the right shape? Should be (64, 10)\n",
    "print(probabilities.shape)\n",
    "# Does it sum to 1?\n",
    "print(probabilities.sum(dim=1))"
   ]
  },
  {
   "cell_type": "markdown",
   "metadata": {},
   "source": [
    "## Building networks with PyTorch\n",
    "\n",
    "PyTorch provides a module `nn` that makes building networks much simpler. Here I'll show you how to build the same one as above with 784 inputs, 256 hidden units, 10 output units and a softmax output."
   ]
  },
  {
   "cell_type": "code",
   "execution_count": 19,
   "metadata": {},
   "outputs": [],
   "source": [
    "from torch import nn"
   ]
  },
  {
   "cell_type": "code",
   "execution_count": 20,
   "metadata": {},
   "outputs": [],
   "source": [
    "class Network(nn.Module):\n",
    "    def __init__(self):\n",
    "        super().__init__()\n",
    "        \n",
    "        # Inputs to hidden layer linear transformation\n",
    "        self.hidden = nn.Linear(784, 256)\n",
    "        # Output layer, 10 units - one for each digit\n",
    "        self.output = nn.Linear(256, 10)\n",
    "        \n",
    "        # Define sigmoid activation and softmax output \n",
    "        self.sigmoid = nn.Sigmoid()\n",
    "        self.softmax = nn.Softmax(dim=1)\n",
    "        \n",
    "    def forward(self, x):\n",
    "        # Pass the input tensor through each of our operations\n",
    "        x = self.hidden(x)\n",
    "        x = self.sigmoid(x)\n",
    "        x = self.output(x)\n",
    "        x = self.softmax(x)\n",
    "        \n",
    "        return x"
   ]
  },
  {
   "cell_type": "markdown",
   "metadata": {},
   "source": [
    "Let's go through this bit by bit.\n",
    "\n",
    "```python\n",
    "class Network(nn.Module):\n",
    "```\n",
    "\n",
    "Here we're inheriting from `nn.Module`. Combined with `super().__init__()` this creates a class that tracks the architecture and provides a lot of useful methods and attributes. It is mandatory to inherit from `nn.Module` when you're creating a class for your network. The name of the class itself can be anything.\n",
    "\n",
    "```python\n",
    "self.hidden = nn.Linear(784, 256)\n",
    "```\n",
    "\n",
    "This line creates a module for a linear transformation, $x\\mathbf{W} + b$, with 784 inputs and 256 outputs and assigns it to `self.hidden`. The module automatically creates the weight and bias tensors which we'll use in the `forward` method. You can access the weight and bias tensors once the network (`net`) is created with `net.hidden.weight` and `net.hidden.bias`.\n",
    "\n",
    "```python\n",
    "self.output = nn.Linear(256, 10)\n",
    "```\n",
    "\n",
    "Similarly, this creates another linear transformation with 256 inputs and 10 outputs.\n",
    "\n",
    "```python\n",
    "self.sigmoid = nn.Sigmoid()\n",
    "self.softmax = nn.Softmax(dim=1)\n",
    "```\n",
    "\n",
    "Here I defined operations for the sigmoid activation and softmax output. Setting `dim=1` in `nn.Softmax(dim=1)` calculates softmax across the columns.\n",
    "\n",
    "```python\n",
    "def forward(self, x):\n",
    "```\n",
    "\n",
    "PyTorch networks created with `nn.Module` must have a `forward` method defined. It takes in a tensor `x` and passes it through the operations you defined in the `__init__` method.\n",
    "\n",
    "```python\n",
    "x = self.hidden(x)\n",
    "x = self.sigmoid(x)\n",
    "x = self.output(x)\n",
    "x = self.softmax(x)\n",
    "```\n",
    "\n",
    "Here the input tensor `x` is passed through each operation and reassigned to `x`. We can see that the input tensor goes through the hidden layer, then a sigmoid function, then the output layer, and finally the softmax function. It doesn't matter what you name the variables here, as long as the inputs and outputs of the operations match the network architecture you want to build. The order in which you define things in the `__init__` method doesn't matter, but you'll need to sequence the operations correctly in the `forward` method.\n",
    "\n",
    "Now we can create a `Network` object."
   ]
  },
  {
   "cell_type": "code",
   "execution_count": 21,
   "metadata": {},
   "outputs": [
    {
     "data": {
      "text/plain": [
       "Network(\n",
       "  (hidden): Linear(in_features=784, out_features=256, bias=True)\n",
       "  (output): Linear(in_features=256, out_features=10, bias=True)\n",
       "  (sigmoid): Sigmoid()\n",
       "  (softmax): Softmax(dim=1)\n",
       ")"
      ]
     },
     "execution_count": 21,
     "metadata": {},
     "output_type": "execute_result"
    }
   ],
   "source": [
    "# Create the network and look at it's text representation\n",
    "model = Network()\n",
    "model"
   ]
  },
  {
   "cell_type": "markdown",
   "metadata": {},
   "source": [
    "You can define the network somewhat more concisely and clearly using the `torch.nn.functional` module. This is the most common way you'll see networks defined as many operations are simple element-wise functions. We normally import this module as `F`, `import torch.nn.functional as F`."
   ]
  },
  {
   "cell_type": "code",
   "execution_count": 22,
   "metadata": {},
   "outputs": [],
   "source": [
    "import torch.nn.functional as F\n",
    "\n",
    "class Network(nn.Module):\n",
    "    def __init__(self):\n",
    "        super().__init__()\n",
    "        # Inputs to hidden layer linear transformation\n",
    "        self.hidden = nn.Linear(784, 256)\n",
    "        # Output layer, 10 units - one for each digit\n",
    "        self.output = nn.Linear(256, 10)\n",
    "        \n",
    "    def forward(self, x):\n",
    "        # Hidden layer with sigmoid activation\n",
    "        x = F.sigmoid(self.hidden(x))\n",
    "        # Output layer with softmax activation\n",
    "        x = F.softmax(self.output(x), dim=1)\n",
    "        \n",
    "        return x"
   ]
  },
  {
   "cell_type": "markdown",
   "metadata": {},
   "source": [
    "### Activation functions\n",
    "\n",
    "So far we've only been looking at the sigmoid activation function, but in general any function can be used as an activation function. The only requirement is that for a network to approximate a non-linear function, the activation functions must be non-linear. Here are a few more examples of common activation functions: Tanh (hyperbolic tangent), and ReLU (rectified linear unit).\n",
    "\n",
    "<img src=\"assets/activation.png\" width=700px>\n",
    "\n",
    "In practice, the ReLU function is used almost exclusively as the activation function for hidden layers."
   ]
  },
  {
   "cell_type": "markdown",
   "metadata": {},
   "source": [
    "### Your Turn to Build a Network\n",
    "\n",
    "<img src=\"assets/mlp_mnist.png\" width=600px>\n",
    "\n",
    "> **Exercise:** Create a network with 784 input units, a hidden layer with 128 units and a ReLU activation, then a hidden layer with 64 units and a ReLU activation, and finally an output layer with a softmax activation as shown above. You can use a ReLU activation with the `nn.ReLU` module or `F.relu` function.\n",
    "\n",
    "It's good practice to name your layers by their type of network, for instance 'fc' to represent a fully-connected layer. As you code your solution, use `fc1`, `fc2`, and `fc3` as your layer names."
   ]
  },
  {
   "cell_type": "code",
   "execution_count": 30,
   "metadata": {
    "scrolled": true
   },
   "outputs": [],
   "source": [
    "## Your solution here\n",
    "import torch.nn.functional as F\n",
    "\n",
    "class UserNetwork(nn.Module):\n",
    "    def __init__(self):\n",
    "        super().__init__()\n",
    "        # layers definition\n",
    "        self.fc1 = nn.Linear(784, 128)\n",
    "        self.fc2 = nn.Linear(128, 64)\n",
    "        self.fc3 = nn.Linear(64, 10)\n",
    "        \n",
    "    def forward(self, x):\n",
    "        # Hidden layer with sigmoid activation\n",
    "        x = F.relu(self.fc1(x))\n",
    "        x = F.relu(self.fc2(x))\n",
    "        # Output layer with softmax activation\n",
    "        x = F.softmax(self.fc3(x), dim=1)\n",
    "        \n",
    "        return x"
   ]
  },
  {
   "cell_type": "code",
   "execution_count": 31,
   "metadata": {},
   "outputs": [
    {
     "data": {
      "text/plain": [
       "UserNetwork(\n",
       "  (fc1): Linear(in_features=784, out_features=128, bias=True)\n",
       "  (fc2): Linear(in_features=128, out_features=64, bias=True)\n",
       "  (fc3): Linear(in_features=64, out_features=10, bias=True)\n",
       ")"
      ]
     },
     "execution_count": 31,
     "metadata": {},
     "output_type": "execute_result"
    }
   ],
   "source": [
    "model = UserNetwork()\n",
    "model"
   ]
  },
  {
   "cell_type": "markdown",
   "metadata": {},
   "source": [
    "### Initializing weights and biases\n",
    "\n",
    "The weights and such are automatically initialized for you, but it's possible to customize how they are initialized. The weights and biases are tensors attached to the layer you defined, you can get them with `model.fc1.weight` for instance."
   ]
  },
  {
   "cell_type": "code",
   "execution_count": 32,
   "metadata": {},
   "outputs": [
    {
     "name": "stdout",
     "output_type": "stream",
     "text": [
      "Parameter containing:\n",
      "tensor([[-0.0006,  0.0169,  0.0280,  ...,  0.0142, -0.0036,  0.0280],\n",
      "        [ 0.0307, -0.0345,  0.0064,  ...,  0.0201,  0.0269,  0.0227],\n",
      "        [-0.0139,  0.0192,  0.0267,  ...,  0.0144, -0.0117, -0.0211],\n",
      "        ...,\n",
      "        [-0.0137, -0.0153, -0.0059,  ..., -0.0058, -0.0034, -0.0284],\n",
      "        [-0.0339,  0.0080, -0.0104,  ...,  0.0332, -0.0199,  0.0195],\n",
      "        [-0.0020,  0.0251,  0.0346,  ...,  0.0227, -0.0118,  0.0144]],\n",
      "       requires_grad=True)\n",
      "Parameter containing:\n",
      "tensor([-0.0091,  0.0288, -0.0143,  0.0030, -0.0322, -0.0322,  0.0196, -0.0250,\n",
      "         0.0158,  0.0215, -0.0194,  0.0285, -0.0111, -0.0315,  0.0353, -0.0155,\n",
      "        -0.0306,  0.0057,  0.0068,  0.0235, -0.0322, -0.0222,  0.0217,  0.0054,\n",
      "        -0.0135, -0.0096,  0.0324,  0.0038, -0.0063,  0.0354,  0.0290,  0.0144,\n",
      "         0.0264, -0.0062, -0.0292,  0.0144,  0.0183,  0.0045,  0.0020,  0.0190,\n",
      "         0.0308, -0.0191, -0.0087, -0.0071, -0.0049,  0.0041,  0.0330,  0.0160,\n",
      "         0.0061, -0.0201, -0.0138,  0.0261,  0.0019, -0.0227, -0.0291, -0.0241,\n",
      "         0.0191, -0.0190,  0.0305,  0.0052, -0.0166, -0.0139,  0.0173,  0.0008,\n",
      "        -0.0109,  0.0318,  0.0201, -0.0184,  0.0326, -0.0168, -0.0122,  0.0181,\n",
      "         0.0123, -0.0092,  0.0242, -0.0205,  0.0067, -0.0332,  0.0099, -0.0261,\n",
      "        -0.0308,  0.0242,  0.0011,  0.0242, -0.0309,  0.0139, -0.0348, -0.0187,\n",
      "        -0.0033, -0.0227, -0.0326,  0.0150,  0.0244, -0.0093,  0.0108, -0.0016,\n",
      "        -0.0289, -0.0007, -0.0013, -0.0021, -0.0045,  0.0123, -0.0012,  0.0310,\n",
      "         0.0270,  0.0064, -0.0223,  0.0191, -0.0094,  0.0056, -0.0046, -0.0006,\n",
      "        -0.0298,  0.0050, -0.0259, -0.0186,  0.0330, -0.0347, -0.0086,  0.0304,\n",
      "        -0.0215,  0.0024,  0.0276,  0.0311,  0.0268, -0.0298,  0.0087,  0.0305],\n",
      "       requires_grad=True)\n"
     ]
    }
   ],
   "source": [
    "print(model.fc1.weight)\n",
    "print(model.fc1.bias)"
   ]
  },
  {
   "cell_type": "markdown",
   "metadata": {},
   "source": [
    "For custom initialization, we want to modify these tensors in place. These are actually autograd *Variables*, so we need to get back the actual tensors with `model.fc1.weight.data`. Once we have the tensors, we can fill them with zeros (for biases) or random normal values."
   ]
  },
  {
   "cell_type": "code",
   "execution_count": 33,
   "metadata": {},
   "outputs": [
    {
     "data": {
      "text/plain": [
       "tensor([0., 0., 0., 0., 0., 0., 0., 0., 0., 0., 0., 0., 0., 0., 0., 0., 0., 0., 0., 0., 0., 0., 0., 0.,\n",
       "        0., 0., 0., 0., 0., 0., 0., 0., 0., 0., 0., 0., 0., 0., 0., 0., 0., 0., 0., 0., 0., 0., 0., 0.,\n",
       "        0., 0., 0., 0., 0., 0., 0., 0., 0., 0., 0., 0., 0., 0., 0., 0., 0., 0., 0., 0., 0., 0., 0., 0.,\n",
       "        0., 0., 0., 0., 0., 0., 0., 0., 0., 0., 0., 0., 0., 0., 0., 0., 0., 0., 0., 0., 0., 0., 0., 0.,\n",
       "        0., 0., 0., 0., 0., 0., 0., 0., 0., 0., 0., 0., 0., 0., 0., 0., 0., 0., 0., 0., 0., 0., 0., 0.,\n",
       "        0., 0., 0., 0., 0., 0., 0., 0.])"
      ]
     },
     "execution_count": 33,
     "metadata": {},
     "output_type": "execute_result"
    }
   ],
   "source": [
    "# Set biases to all zeros\n",
    "model.fc1.bias.data.fill_(0)"
   ]
  },
  {
   "cell_type": "code",
   "execution_count": 34,
   "metadata": {},
   "outputs": [
    {
     "data": {
      "text/plain": [
       "tensor([[-0.0090, -0.0058,  0.0027,  ..., -0.0017,  0.0279,  0.0138],\n",
       "        [-0.0015, -0.0013, -0.0068,  ...,  0.0112,  0.0209, -0.0105],\n",
       "        [-0.0074, -0.0098, -0.0022,  ..., -0.0023, -0.0125,  0.0098],\n",
       "        ...,\n",
       "        [-0.0007,  0.0026,  0.0075,  ...,  0.0148,  0.0024, -0.0077],\n",
       "        [-0.0068, -0.0183,  0.0059,  ...,  0.0034, -0.0200, -0.0024],\n",
       "        [-0.0106, -0.0141,  0.0172,  ...,  0.0059, -0.0016,  0.0121]])"
      ]
     },
     "execution_count": 34,
     "metadata": {},
     "output_type": "execute_result"
    }
   ],
   "source": [
    "# sample from random normal with standard dev = 0.01\n",
    "model.fc1.weight.data.normal_(std=0.01)"
   ]
  },
  {
   "cell_type": "markdown",
   "metadata": {},
   "source": [
    "### Forward pass\n",
    "\n",
    "Now that we have a network, let's see what happens when we pass in an image."
   ]
  },
  {
   "cell_type": "code",
   "execution_count": 35,
   "metadata": {},
   "outputs": [
    {
     "data": {
      "image/png": "[encoded data removed]",
      "text/plain": [
       "<Figure size 432x648 with 2 Axes>"
      ]
     },
     "metadata": {
      "image/png": {
       "height": 235,
       "width": 424
      },
      "needs_background": "light"
     },
     "output_type": "display_data"
    }
   ],
   "source": [
    "# Grab some data \n",
    "dataiter = iter(trainloader)\n",
    "images, labels = dataiter.next()\n",
    "\n",
    "# Resize images into a 1D vector, new shape is (batch size, color channels, image pixels) \n",
    "images.resize_(64, 1, 784)\n",
    "# or images.resize_(images.shape[0], 1, 784) to automatically get batch size\n",
    "\n",
    "# Forward pass through the network\n",
    "img_idx = 0\n",
    "ps = model.forward(images[img_idx,:])\n",
    "\n",
    "img = images[img_idx]\n",
    "helper.view_classify(img.view(1, 28, 28), ps)"
   ]
  },
  {
   "cell_type": "markdown",
   "metadata": {},
   "source": [
    "As you can see above, our network has basically no idea what this digit is. It's because we haven't trained it yet, all the weights are random!\n",
    "\n",
    "### Using `nn.Sequential`\n",
    "\n",
    "PyTorch provides a convenient way to build networks like this where a tensor is passed sequentially through operations, `nn.Sequential` ([documentation](https://pytorch.org/docs/master/nn.html#torch.nn.Sequential)). Using this to build the equivalent network:"
   ]
  },
  {
   "cell_type": "code",
   "execution_count": 36,
   "metadata": {},
   "outputs": [
    {
     "name": "stdout",
     "output_type": "stream",
     "text": [
      "Sequential(\n",
      "  (0): Linear(in_features=784, out_features=128, bias=True)\n",
      "  (1): ReLU()\n",
      "  (2): Linear(in_features=128, out_features=64, bias=True)\n",
      "  (3): ReLU()\n",
      "  (4): Linear(in_features=64, out_features=10, bias=True)\n",
      "  (5): Softmax(dim=1)\n",
      ")\n"
     ]
    },
    {
     "data": {
      "image/png": "[encoded data removed]",
      "text/plain": [
       "<Figure size 432x648 with 2 Axes>"
      ]
     },
     "metadata": {
      "image/png": {
       "height": 235,
       "width": 424
      },
      "needs_background": "light"
     },
     "output_type": "display_data"
    }
   ],
   "source": [
    "# Hyperparameters for our network\n",
    "input_size = 784\n",
    "hidden_sizes = [128, 64]\n",
    "output_size = 10\n",
    "\n",
    "# Build a feed-forward network\n",
    "model = nn.Sequential(nn.Linear(input_size, hidden_sizes[0]),\n",
    "                      nn.ReLU(),\n",
    "                      nn.Linear(hidden_sizes[0], hidden_sizes[1]),\n",
    "                      nn.ReLU(),\n",
    "                      nn.Linear(hidden_sizes[1], output_size),\n",
    "                      nn.Softmax(dim=1))\n",
    "print(model)\n",
    "\n",
    "# Forward pass through the network and display output\n",
    "images, labels = next(iter(trainloader))\n",
    "images.resize_(images.shape[0], 1, 784)\n",
    "ps = model.forward(images[0,:])\n",
    "helper.view_classify(images[0].view(1, 28, 28), ps)"
   ]
  },
  {
   "cell_type": "markdown",
   "metadata": {},
   "source": [
    "Here our model is the same as before: 784 input units, a hidden layer with 128 units, ReLU activation, 64 unit hidden layer, another ReLU, then the output layer with 10 units, and the softmax output.\n",
    "\n",
    "The operations are available by passing in the appropriate index. For example, if you want to get first Linear operation and look at the weights, you'd use `model[0]`."
   ]
  },
  {
   "cell_type": "code",
   "execution_count": 37,
   "metadata": {},
   "outputs": [
    {
     "name": "stdout",
     "output_type": "stream",
     "text": [
      "Linear(in_features=784, out_features=128, bias=True)\n"
     ]
    },
    {
     "data": {
      "text/plain": [
       "Parameter containing:\n",
       "tensor([[-0.0211,  0.0229,  0.0099,  ...,  0.0069,  0.0155,  0.0072],\n",
       "        [-0.0102, -0.0037, -0.0239,  ...,  0.0233,  0.0035, -0.0236],\n",
       "        [ 0.0020, -0.0300, -0.0083,  ..., -0.0231,  0.0120,  0.0349],\n",
       "        ...,\n",
       "        [-0.0319, -0.0008, -0.0316,  ...,  0.0268, -0.0208, -0.0163],\n",
       "        [-0.0242, -0.0287,  0.0116,  ...,  0.0269,  0.0121, -0.0260],\n",
       "        [ 0.0229,  0.0044, -0.0296,  ..., -0.0002,  0.0342,  0.0044]],\n",
       "       requires_grad=True)"
      ]
     },
     "execution_count": 37,
     "metadata": {},
     "output_type": "execute_result"
    }
   ],
   "source": [
    "print(model[0])\n",
    "model[0].weight"
   ]
  },
  {
   "cell_type": "markdown",
   "metadata": {},
   "source": [
    "You can also pass in an `OrderedDict` to name the individual layers and operations, instead of using incremental integers. Note that dictionary keys must be unique, so _each operation must have a different name_."
   ]
  },
  {
   "cell_type": "code",
   "execution_count": 38,
   "metadata": {},
   "outputs": [
    {
     "data": {
      "text/plain": [
       "Sequential(\n",
       "  (fc1): Linear(in_features=784, out_features=128, bias=True)\n",
       "  (relu1): ReLU()\n",
       "  (fc2): Linear(in_features=128, out_features=64, bias=True)\n",
       "  (relu2): ReLU()\n",
       "  (output): Linear(in_features=64, out_features=10, bias=True)\n",
       "  (softmax): Softmax(dim=1)\n",
       ")"
      ]
     },
     "execution_count": 38,
     "metadata": {},
     "output_type": "execute_result"
    }
   ],
   "source": [
    "from collections import OrderedDict\n",
    "model = nn.Sequential(OrderedDict([\n",
    "                      ('fc1', nn.Linear(input_size, hidden_sizes[0])),\n",
    "                      ('relu1', nn.ReLU()),\n",
    "                      ('fc2', nn.Linear(hidden_sizes[0], hidden_sizes[1])),\n",
    "                      ('relu2', nn.ReLU()),\n",
    "                      ('output', nn.Linear(hidden_sizes[1], output_size)),\n",
    "                      ('softmax', nn.Softmax(dim=1))]))\n",
    "model"
   ]
  },
  {
   "cell_type": "markdown",
   "metadata": {},
   "source": [
    "Now you can access layers either by integer or the name"
   ]
  },
  {
   "cell_type": "code",
   "execution_count": 39,
   "metadata": {},
   "outputs": [
    {
     "name": "stdout",
     "output_type": "stream",
     "text": [
      "Linear(in_features=784, out_features=128, bias=True)\n",
      "Linear(in_features=784, out_features=128, bias=True)\n"
     ]
    }
   ],
   "source": [
    "print(model[0])\n",
    "print(model.fc1)"
   ]
  },
  {
   "cell_type": "markdown",
   "metadata": {},
   "source": [
    "In the next notebook, we'll see how we can train a neural network to accuractly predict the numbers appearing in the MNIST images."
   ]
  }
 ],
 "metadata": {
  "kernelspec": {
   "display_name": "Python 3",
   "language": "python",
   "name": "python3"
  },
  "language_info": {
   "codemirror_mode": {
    "name": "ipython",
    "version": 3
   },
   "file_extension": ".py",
   "mimetype": "text/x-python",
   "name": "python",
   "nbconvert_exporter": "python",
   "pygments_lexer": "ipython3",
   "version": "3.8.5"
  }
 },
 "nbformat": 4,
 "nbformat_minor": 2
}
