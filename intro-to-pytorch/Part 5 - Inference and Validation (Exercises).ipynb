{
 "cells": [
  {
   "cell_type": "markdown",
   "metadata": {},
   "source": [
    "# Inference and Validation\n",
    "\n",
    "Now that you have a trained network, you can use it for making predictions. This is typically called **inference**, a term borrowed from statistics. However, neural networks have a tendency to perform *too well* on the training data and aren't able to generalize to data that hasn't been seen before. This is called **overfitting** and it impairs inference performance. To test for overfitting while training, we measure the performance on data not in the training set called the **validation** set. We avoid overfitting through regularization such as dropout while monitoring the validation performance during training. In this notebook, I'll show you how to do this in PyTorch. \n",
    "\n",
    "As usual, let's start by loading the dataset through torchvision. You'll learn more about torchvision and loading data in a later part. This time we'll be taking advantage of the test set which you can get by setting `train=False` here:\n",
    "\n",
    "```python\n",
    "testset = datasets.FashionMNIST('~/.pytorch/F_MNIST_data/', download=True, train=False, transform=transform)\n",
    "```\n",
    "\n",
    "The test set contains images just like the training set. Typically you'll see 10-20% of the original dataset held out for testing and validation with the rest being used for training."
   ]
  },
  {
   "cell_type": "code",
   "execution_count": 19,
   "metadata": {},
   "outputs": [],
   "source": [
    "import torch\n",
    "from torchvision import datasets, transforms\n",
    "\n",
    "# Define a transform to normalize the data\n",
    "transform = transforms.Compose([transforms.ToTensor(),\n",
    "                                transforms.Normalize((0.5,), (0.5,))])\n",
    "# Download and load the training data\n",
    "trainset = datasets.FashionMNIST('~/.pytorch/F_MNIST_data/', download=True, train=True, transform=transform)\n",
    "trainloader = torch.utils.data.DataLoader(trainset, batch_size=64, shuffle=True)\n",
    "\n",
    "# Download and load the test data\n",
    "testset = datasets.FashionMNIST('~/.pytorch/F_MNIST_data/', download=True, train=False, transform=transform)\n",
    "testloader = torch.utils.data.DataLoader(testset, batch_size=64, shuffle=True)"
   ]
  },
  {
   "cell_type": "markdown",
   "metadata": {},
   "source": [
    "Here I'll create a model like normal, using the same one from my solution for part 4."
   ]
  },
  {
   "cell_type": "code",
   "execution_count": 20,
   "metadata": {},
   "outputs": [],
   "source": [
    "from torch import nn, optim\n",
    "import torch.nn.functional as F\n",
    "\n",
    "class Classifier(nn.Module):\n",
    "    def __init__(self):\n",
    "        super().__init__()\n",
    "        self.fc1 = nn.Linear(784, 256)\n",
    "        self.fc2 = nn.Linear(256, 128)\n",
    "        self.fc3 = nn.Linear(128, 64)\n",
    "        self.fc4 = nn.Linear(64, 10)\n",
    "        \n",
    "    def forward(self, x):\n",
    "        # make sure input tensor is flattened\n",
    "        x = x.view(x.shape[0], -1)\n",
    "        \n",
    "        x = F.relu(self.fc1(x))\n",
    "        x = F.relu(self.fc2(x))\n",
    "        x = F.relu(self.fc3(x))\n",
    "        x = F.log_softmax(self.fc4(x), dim=1)\n",
    "        \n",
    "        return x"
   ]
  },
  {
   "cell_type": "markdown",
   "metadata": {},
   "source": [
    "The goal of validation is to measure the model's performance on data that isn't part of the training set. Performance here is up to the developer to define though. Typically this is just accuracy, the percentage of classes the network predicted correctly. Other options are [precision and recall](https://en.wikipedia.org/wiki/Precision_and_recall#Definition_(classification_context)) and top-5 error rate. We'll focus on accuracy here. First I'll do a forward pass with one batch from the test set."
   ]
  },
  {
   "cell_type": "code",
   "execution_count": 4,
   "metadata": {},
   "outputs": [
    {
     "name": "stdout",
     "output_type": "stream",
     "text": [
      "torch.Size([64, 10])\n"
     ]
    }
   ],
   "source": [
    "model = Classifier()\n",
    "\n",
    "images, labels = next(iter(testloader))\n",
    "# Get the class probabilities\n",
    "ps = torch.exp(model(images))\n",
    "# Make sure the shape is appropriate, we should get 10 class probabilities for 64 examples\n",
    "print(ps.shape)"
   ]
  },
  {
   "cell_type": "markdown",
   "metadata": {},
   "source": [
    "With the probabilities, we can get the most likely class using the `ps.topk` method. This returns the $k$ highest values. Since we just want the most likely class, we can use `ps.topk(1)`. This returns a tuple of the top-$k$ values and the top-$k$ indices. If the highest value is the fifth element, we'll get back 4 as the index."
   ]
  },
  {
   "cell_type": "code",
   "execution_count": 5,
   "metadata": {},
   "outputs": [
    {
     "name": "stdout",
     "output_type": "stream",
     "text": [
      "tensor([[5],\n",
      "        [5],\n",
      "        [1],\n",
      "        [5],\n",
      "        [5],\n",
      "        [5],\n",
      "        [5],\n",
      "        [5],\n",
      "        [5],\n",
      "        [5]])\n"
     ]
    }
   ],
   "source": [
    "top_p, top_class = ps.topk(1, dim=1)\n",
    "# Look at the most likely classes for the first 10 examples\n",
    "print(top_class[:10,:])"
   ]
  },
  {
   "cell_type": "markdown",
   "metadata": {},
   "source": [
    "Now we can check if the predicted classes match the labels. This is simple to do by equating `top_class` and `labels`, but we have to be careful of the shapes. Here `top_class` is a 2D tensor with shape `(64, 1)` while `labels` is 1D with shape `(64)`. To get the equality to work out the way we want, `top_class` and `labels` must have the same shape.\n",
    "\n",
    "If we do\n",
    "\n",
    "```python\n",
    "equals = top_class == labels\n",
    "```\n",
    "\n",
    "`equals` will have shape `(64, 64)`, try it yourself. What it's doing is comparing the one element in each row of `top_class` with each element in `labels` which returns 64 True/False boolean values for each row."
   ]
  },
  {
   "cell_type": "code",
   "execution_count": 6,
   "metadata": {},
   "outputs": [],
   "source": [
    "equals = top_class == labels.view(*top_class.shape)"
   ]
  },
  {
   "cell_type": "markdown",
   "metadata": {},
   "source": [
    "Now we need to calculate the percentage of correct predictions. `equals` has binary values, either 0 or 1. This means that if we just sum up all the values and divide by the number of values, we get the percentage of correct predictions. This is the same operation as taking the mean, so we can get the accuracy with a call to `torch.mean`. If only it was that simple. If you try `torch.mean(equals)`, you'll get an error\n",
    "\n",
    "```\n",
    "RuntimeError: mean is not implemented for type torch.ByteTensor\n",
    "```\n",
    "\n",
    "This happens because `equals` has type `torch.ByteTensor` but `torch.mean` isn't implemented for tensors with that type. So we'll need to convert `equals` to a float tensor. Note that when we take `torch.mean` it returns a scalar tensor, to get the actual value as a float we'll need to do `accuracy.item()`."
   ]
  },
  {
   "cell_type": "code",
   "execution_count": 7,
   "metadata": {},
   "outputs": [
    {
     "name": "stdout",
     "output_type": "stream",
     "text": [
      "Accuracy: 10.9375%\n"
     ]
    }
   ],
   "source": [
    "accuracy = torch.mean(equals.type(torch.FloatTensor))\n",
    "print(f'Accuracy: {accuracy.item()*100}%')"
   ]
  },
  {
   "cell_type": "markdown",
   "metadata": {},
   "source": [
    "The network is untrained so it's making random guesses and we should see an accuracy around 10%. Now let's train our network and include our validation pass so we can measure how well the network is performing on the test set. Since we're not updating our parameters in the validation pass, we can speed up our code by turning off gradients using `torch.no_grad()`:\n",
    "\n",
    "```python\n",
    "# turn off gradients\n",
    "with torch.no_grad():\n",
    "    # validation pass here\n",
    "    for images, labels in testloader:\n",
    "        ...\n",
    "```\n",
    "\n",
    ">**Exercise:** Implement the validation loop below and print out the total accuracy after the loop. You can largely copy and paste the code from above, but I suggest typing it in because writing it out yourself is essential for building the skill. In general you'll always learn more by typing it rather than copy-pasting. You should be able to get an accuracy above 80%."
   ]
  },
  {
   "cell_type": "code",
   "execution_count": 8,
   "metadata": {},
   "outputs": [
    {
     "data": {
      "text/plain": [
       "157"
      ]
     },
     "execution_count": 8,
     "metadata": {},
     "output_type": "execute_result"
    }
   ],
   "source": [
    "len(testloader)"
   ]
  },
  {
   "cell_type": "code",
   "execution_count": 9,
   "metadata": {},
   "outputs": [
    {
     "name": "stdout",
     "output_type": "stream",
     "text": [
      "tensor([], size=(0, 1))\n"
     ]
    }
   ],
   "source": [
    "print(torch.empty(0,1))"
   ]
  },
  {
   "cell_type": "code",
   "execution_count": 10,
   "metadata": {},
   "outputs": [
    {
     "name": "stdout",
     "output_type": "stream",
     "text": [
      "tensor([])\n"
     ]
    }
   ],
   "source": [
    "print(torch.empty(0))"
   ]
  },
  {
   "cell_type": "code",
   "execution_count": 15,
   "metadata": {},
   "outputs": [
    {
     "name": "stdout",
     "output_type": "stream",
     "text": [
      "Accuracy: 81.05999827384949%\n",
      "training losses: 0.00797801416143775\n",
      "test losses: 0.007952172733843327\n",
      "Accuracy: 84.93000268936157%\n",
      "training losses: 0.0060880803848306336\n",
      "test losses: 0.0066765500202775\n",
      "Accuracy: 86.55999898910522%\n",
      "training losses: 0.005495074340080222\n",
      "test losses: 0.005945412203669548\n",
      "Accuracy: 85.90999841690063%\n",
      "training losses: 0.005176584211364388\n",
      "test losses: 0.006604528525471687\n",
      "Accuracy: 85.82000136375427%\n",
      "training losses: 0.00493125485877196\n",
      "test losses: 0.00623622949719429\n",
      "Accuracy: 85.85000038146973%\n",
      "training losses: 0.004699471402540803\n",
      "test losses: 0.006513472865521908\n",
      "Accuracy: 87.44999766349792%\n",
      "training losses: 0.004519172904764612\n",
      "test losses: 0.005606849700212479\n",
      "Accuracy: 87.12999820709229%\n",
      "training losses: 0.004401557416593035\n",
      "test losses: 0.005973280771076679\n",
      "Accuracy: 87.72000074386597%\n",
      "training losses: 0.004268553144981464\n",
      "test losses: 0.0057373800471425054\n",
      "Accuracy: 87.3199999332428%\n",
      "training losses: 0.004122396381447712\n",
      "test losses: 0.005927022017352283\n",
      "Accuracy: 87.59999871253967%\n",
      "training losses: 0.003998793004701535\n",
      "test losses: 0.0058076320521533486\n",
      "Accuracy: 87.84000277519226%\n",
      "training losses: 0.00395865566978852\n",
      "test losses: 0.006036264908313751\n",
      "Accuracy: 88.01000118255615%\n",
      "training losses: 0.0038273176727195582\n",
      "test losses: 0.0055662202477455135\n",
      "Accuracy: 87.76999711990356%\n",
      "training losses: 0.00377082503689453\n",
      "test losses: 0.0061093231536448\n",
      "Accuracy: 87.76999711990356%\n",
      "training losses: 0.003657823625827829\n",
      "test losses: 0.005809503318369389\n",
      "Accuracy: 86.87000274658203%\n",
      "training losses: 0.003547102104127407\n",
      "test losses: 0.0070453324377536776\n",
      "Accuracy: 87.56999969482422%\n",
      "training losses: 0.0035117044842491547\n",
      "test losses: 0.006128157931566239\n",
      "Accuracy: 88.13999891281128%\n",
      "training losses: 0.003349145227794846\n",
      "test losses: 0.0060685892641544345\n",
      "Accuracy: 87.6200020313263%\n",
      "training losses: 0.0033500480597838758\n",
      "test losses: 0.006408393644541502\n",
      "Accuracy: 87.87000179290771%\n",
      "training losses: 0.0033060476781179506\n",
      "test losses: 0.006411834572255612\n",
      "Accuracy: 87.87000179290771%\n",
      "training losses: 0.0031898869789515933\n",
      "test losses: 0.006329674772173166\n",
      "Accuracy: 87.9800021648407%\n",
      "training losses: 0.003213265107075373\n",
      "test losses: 0.006311985641717911\n",
      "Accuracy: 88.16999793052673%\n",
      "training losses: 0.003178377544103811\n",
      "test losses: 0.006365426883101463\n",
      "Accuracy: 86.73999905586243%\n",
      "training losses: 0.0030745830858126284\n",
      "test losses: 0.00685870394334197\n",
      "Accuracy: 88.27000260353088%\n",
      "training losses: 0.00316919691413641\n",
      "test losses: 0.006814971432834864\n",
      "Accuracy: 88.12000155448914%\n",
      "training losses: 0.002991357095260173\n",
      "test losses: 0.00642962955981493\n",
      "Accuracy: 88.05000185966492%\n",
      "training losses: 0.0029027405330911277\n",
      "test losses: 0.006885332155972719\n",
      "Accuracy: 88.23999762535095%\n",
      "training losses: 0.0029744089289878805\n",
      "test losses: 0.0068335711698979135\n",
      "Accuracy: 88.37000131607056%\n",
      "training losses: 0.0028643582101290426\n",
      "test losses: 0.007137069547176361\n",
      "Accuracy: 87.97000050544739%\n",
      "training losses: 0.0028973541211957735\n",
      "test losses: 0.007308623697981238\n"
     ]
    }
   ],
   "source": [
    "model = Classifier()\n",
    "criterion = nn.NLLLoss()\n",
    "optimizer = optim.Adam(model.parameters(), lr=0.003)\n",
    "\n",
    "epochs = 30\n",
    "steps = 0\n",
    "\n",
    "train_losses, test_losses = [], []\n",
    "for e in range(epochs):\n",
    "    running_loss = 0\n",
    "    for images, labels in trainloader:\n",
    "        \n",
    "        optimizer.zero_grad()\n",
    "        \n",
    "        log_ps = model(images)\n",
    "        loss = criterion(log_ps, labels)\n",
    "        loss.backward()\n",
    "        optimizer.step()\n",
    "        \n",
    "        running_loss += loss.item()\n",
    "        \n",
    "    else:\n",
    "        train_losses = running_loss\n",
    "        ## TODO: Implement the validation pass and print out the validation accuracy\n",
    "        running_loss = 0\n",
    "        total_equals = torch.empty(0)\n",
    "        with torch.no_grad():\n",
    "            running_accuracy = list()\n",
    "            for images, labels in testloader:\n",
    "                log_ps=model(images)\n",
    "                loss = criterion(log_ps, labels)\n",
    "                running_loss += loss.item()\n",
    "                \n",
    "                ps=torch.exp(log_ps)\n",
    "                top_p, top_class = ps.topk(1, dim=1)\n",
    "                equals = top_class == labels.view(*top_class.shape)\n",
    "                total_equals = torch.cat((total_equals,equals))               \n",
    "\n",
    "            accuracy = torch.mean(total_equals.type(torch.FloatTensor))\n",
    "            print(f'Accuracy: {accuracy.item()*100}%')\n",
    "            test_losses = running_loss\n",
    "            print(f'training losses: {train_losses/len(trainloader.sampler)}')\n",
    "            print(f'test losses: {test_losses/len(testloader.sampler)}')\n"
   ]
  },
  {
   "cell_type": "markdown",
   "metadata": {},
   "source": [
    "## Overfitting\n",
    "\n",
    "If we look at the training and validation losses as we train the network, we can see a phenomenon known as overfitting.\n",
    "\n",
    "<img src='assets/overfitting.png' width=450px>\n",
    "\n",
    "The network learns the training set better and better, resulting in lower training losses. However, it starts having problems generalizing to data outside the training set leading to the validation loss increasing. The ultimate goal of any deep learning model is to make predictions on new data, so we should strive to get the lowest validation loss possible. One option is to use the version of the model with the lowest validation loss, here the one around 8-10 training epochs. This strategy is called *early-stopping*. In practice, you'd save the model frequently as you're training then later choose the model with the lowest validation loss.\n",
    "\n",
    "The most common method to reduce overfitting (outside of early-stopping) is *dropout*, where we randomly drop input units. This forces the network to share information between weights, increasing it's ability to generalize to new data. Adding dropout in PyTorch is straightforward using the [`nn.Dropout`](https://pytorch.org/docs/stable/nn.html#torch.nn.Dropout) module.\n",
    "\n",
    "```python\n",
    "class Classifier(nn.Module):\n",
    "    def __init__(self):\n",
    "        super().__init__()\n",
    "        self.fc1 = nn.Linear(784, 256)\n",
    "        self.fc2 = nn.Linear(256, 128)\n",
    "        self.fc3 = nn.Linear(128, 64)\n",
    "        self.fc4 = nn.Linear(64, 10)\n",
    "        \n",
    "        # Dropout module with 0.2 drop probability\n",
    "        self.dropout = nn.Dropout(p=0.2)\n",
    "        \n",
    "    def forward(self, x):\n",
    "        # make sure input tensor is flattened\n",
    "        x = x.view(x.shape[0], -1)\n",
    "        \n",
    "        # Now with dropout\n",
    "        x = self.dropout(F.relu(self.fc1(x)))\n",
    "        x = self.dropout(F.relu(self.fc2(x)))\n",
    "        x = self.dropout(F.relu(self.fc3(x)))\n",
    "        \n",
    "        # output so no dropout here\n",
    "        x = F.log_softmax(self.fc4(x), dim=1)\n",
    "        \n",
    "        return x\n",
    "```\n",
    "\n",
    "During training we want to use dropout to prevent overfitting, but during inference we want to use the entire network. So, we need to turn off dropout during validation, testing, and whenever we're using the network to make predictions. To do this, you use `model.eval()`. This sets the model to evaluation mode where the dropout probability is 0. You can turn dropout back on by setting the model to train mode with `model.train()`. In general, the pattern for the validation loop will look like this, where you turn off gradients, set the model to evaluation mode, calculate the validation loss and metric, then set the model back to train mode.\n",
    "\n",
    "```python\n",
    "# turn off gradients\n",
    "with torch.no_grad():\n",
    "    \n",
    "    # set model to evaluation mode\n",
    "    model.eval()\n",
    "    \n",
    "    # validation pass here\n",
    "    for images, labels in testloader:\n",
    "        ...\n",
    "\n",
    "# set model back to train mode\n",
    "model.train()\n",
    "```"
   ]
  },
  {
   "cell_type": "markdown",
   "metadata": {},
   "source": [
    "> **Exercise:** Add dropout to your model and train it on Fashion-MNIST again. See if you can get a lower validation loss or higher accuracy."
   ]
  },
  {
   "cell_type": "code",
   "execution_count": 39,
   "metadata": {},
   "outputs": [],
   "source": [
    "## TODO: Define your model with dropout added\n",
    "class network(nn.Module):\n",
    "    def __init__(self):\n",
    "        super().__init__()\n",
    "        self.fc1 = nn.Linear(784, 256)\n",
    "        self.fc2 = nn.Linear(256, 128)\n",
    "        self.fc3 = nn.Linear(128, 64)\n",
    "        self.fc4 = nn.Linear(64, 10)\n",
    "        self.dropout = nn.Dropout(p=0.2)\n",
    "        \n",
    "    def forward(self, x):\n",
    "        x = x.view(x.shape[0], -1)\n",
    "        x = self.dropout(F.relu(self.fc1(x)))\n",
    "        x = self.dropout(F.relu(self.fc2(x)))\n",
    "        x = self.dropout(F.relu(self.fc3(x)))\n",
    "        x = F.log_softmax(self.fc4(x), dim = 1)\n",
    "        return x\n",
    "        "
   ]
  },
  {
   "cell_type": "code",
   "execution_count": 40,
   "metadata": {},
   "outputs": [
    {
     "name": "stdout",
     "output_type": "stream",
     "text": [
      "Accuracy: 82.79259554140127%\n",
      "train loss : 0.601568876902686\n",
      "test loss : 0.48659043887238596\n",
      "Accuracy: 83.10111464968153%\n",
      "train loss : 0.48240063206028583\n",
      "test loss : 0.4567829324940967\n",
      "Accuracy: 84.71337579617835%\n",
      "train loss : 0.44770480914792016\n",
      "test loss : 0.42279286236520025\n",
      "Accuracy: 86.03702229299363%\n",
      "train loss : 0.4297652286507173\n",
      "test loss : 0.394615106521898\n",
      "Accuracy: 85.28065286624204%\n",
      "train loss : 0.4189582243244023\n",
      "test loss : 0.40307125192918597\n",
      "Accuracy: 85.86783439490446%\n",
      "train loss : 0.4108428545216762\n",
      "test loss : 0.38894224660411764\n",
      "Accuracy: 85.12141719745223%\n",
      "train loss : 0.4057464867131288\n",
      "test loss : 0.4095508387893628\n",
      "Accuracy: 85.94745222929936%\n",
      "train loss : 0.392874760032971\n",
      "test loss : 0.40008440632729014\n",
      "Accuracy: 86.18630573248409%\n",
      "train loss : 0.38612416074442457\n",
      "test loss : 0.39956555017240486\n",
      "Accuracy: 86.53463375796179%\n",
      "train loss : 0.3891793198819989\n",
      "test loss : 0.37963208508719304\n",
      "Accuracy: 85.41003184713377%\n",
      "train loss : 0.3823977376797052\n",
      "test loss : 0.4088666184692626\n",
      "Accuracy: 86.29578025477707%\n",
      "train loss : 0.38170417085258185\n",
      "test loss : 0.39204116754091467\n",
      "Accuracy: 86.90286624203821%\n",
      "train loss : 0.37217180391968185\n",
      "test loss : 0.38526479311429773\n",
      "Accuracy: 86.80334394904459%\n",
      "train loss : 0.36788105653293096\n",
      "test loss : 0.37138893792204036\n",
      "Accuracy: 86.82324840764332%\n",
      "train loss : 0.3704319257916672\n",
      "test loss : 0.3867264348230544\n",
      "Accuracy: 87.02229299363057%\n",
      "train loss : 0.365933795981824\n",
      "test loss : 0.3643356967883505\n",
      "Accuracy: 86.4749203821656%\n",
      "train loss : 0.3648887062822578\n",
      "test loss : 0.3849430613362106\n",
      "Accuracy: 86.94267515923568%\n",
      "train loss : 0.36114471037187046\n",
      "test loss : 0.39101809101879215\n",
      "Accuracy: 86.75358280254777%\n",
      "train loss : 0.3591171266761289\n",
      "test loss : 0.3796338454173629\n",
      "Accuracy: 87.51990445859873%\n",
      "train loss : 0.35372511673964924\n",
      "test loss : 0.35773359727897464\n",
      "Accuracy: 87.32085987261146%\n",
      "train loss : 0.3585733958462408\n",
      "test loss : 0.36733710272296977\n",
      "Accuracy: 86.89291401273886%\n",
      "train loss : 0.3480303577189125\n",
      "test loss : 0.37368338445948945\n",
      "Accuracy: 87.29100318471338%\n",
      "train loss : 0.3489848111849477\n",
      "test loss : 0.3689535647440868\n",
      "Accuracy: 86.63415605095541%\n",
      "train loss : 0.34912457326645535\n",
      "test loss : 0.3954614557468208\n",
      "Accuracy: 87.390525477707%\n",
      "train loss : 0.34252061951420965\n",
      "test loss : 0.37569112795743215\n",
      "Accuracy: 87.09195859872611%\n",
      "train loss : 0.34499387705186285\n",
      "test loss : 0.3683878804088398\n",
      "Accuracy: 87.42038216560509%\n",
      "train loss : 0.3394548595825365\n",
      "test loss : 0.36968064953567115\n",
      "Accuracy: 86.81329617834395%\n",
      "train loss : 0.34397208272044594\n",
      "test loss : 0.3950179130503326\n",
      "Accuracy: 86.6640127388535%\n",
      "train loss : 0.34368228136317563\n",
      "test loss : 0.3840600059480424\n",
      "Accuracy: 87.37062101910828%\n",
      "train loss : 0.3458495252072684\n",
      "test loss : 0.3799834112832501\n"
     ]
    }
   ],
   "source": [
    "## TODO: Train your model with dropout, and monitor the training progress with the validation loss and accuracy\n",
    "model = network()\n",
    "criterion = nn.NLLLoss()\n",
    "optimizer = optim.Adam(model.parameters(), lr = 0.003)\n",
    "epochs = 30\n",
    "steps = 0\n",
    "\n",
    "for e in range(epochs):\n",
    "    running_loss = 0\n",
    "    for images, labels in trainloader:\n",
    "        optimizer.zero_grad()\n",
    "        log_ps = model(images)\n",
    "        loss = criterion(log_ps, labels)\n",
    "        loss.backward()\n",
    "        optimizer.step()\n",
    "        running_loss += loss.item()\n",
    "    else:\n",
    "        test_loss = 0\n",
    "        accuracy = 0\n",
    "        with torch.no_grad():\n",
    "            model.eval()\n",
    "            for images, labels in testloader:\n",
    "                log_ps = model(images)\n",
    "                loss = criterion(log_ps, labels)\n",
    "                test_loss += loss.item()\n",
    "                ps = torch.exp(log_ps)\n",
    "                top_p, top_class = ps.topk(1, dim = 1)\n",
    "                equals = top_class == labels.view(*top_class.shape)\n",
    "                accuracy += torch.mean(equals.type(torch.FloatTensor))\n",
    "\n",
    "            print(f'Accuracy: {accuracy.item()/len(testloader)*100}%')\n",
    "            print(f'train loss : {running_loss/len(trainloader)}')\n",
    "            print(f'test loss : {test_loss/len(testloader)}')\n",
    "\n",
    "        model.train()\n"
   ]
  },
  {
   "cell_type": "markdown",
   "metadata": {},
   "source": [
    "## Inference\n",
    "\n",
    "Now that the model is trained, we can use it for inference. We've done this before, but now we need to remember to set the model in inference mode with `model.eval()`. You'll also want to turn off autograd with the `torch.no_grad()` context."
   ]
  },
  {
   "cell_type": "code",
   "execution_count": 41,
   "metadata": {
    "scrolled": true
   },
   "outputs": [
    {
     "data": {
      "image/png": "[encoded data removed]",
      "text/plain": [
       "<Figure size 432x648 with 2 Axes>"
      ]
     },
     "metadata": {
      "needs_background": "light"
     },
     "output_type": "display_data"
    }
   ],
   "source": [
    "# Import helper module (should be in the repo)\n",
    "import helper\n",
    "\n",
    "# Test out your network!\n",
    "\n",
    "model.eval()\n",
    "\n",
    "dataiter = iter(testloader)\n",
    "images, labels = dataiter.next()\n",
    "img = images[0]\n",
    "# Convert 2D image to 1D vector\n",
    "img = img.view(1, 784)\n",
    "\n",
    "# Calculate the class probabilities (softmax) for img\n",
    "with torch.no_grad():\n",
    "    output = model.forward(img)\n",
    "\n",
    "ps = torch.exp(output)\n",
    "\n",
    "# Plot the image and probabilities\n",
    "helper.view_classify(img.view(1, 28, 28), ps, version='Fashion')"
   ]
  },
  {
   "cell_type": "markdown",
   "metadata": {},
   "source": [
    "## Next Up!\n",
    "\n",
    "In the next part, I'll show you how to save your trained models. In general, you won't want to train a model everytime you need it. Instead, you'll train once, save it, then load the model when you want to train more or use if for inference."
   ]
  }
 ],
 "metadata": {
  "kernelspec": {
   "display_name": "Python 3",
   "language": "python",
   "name": "python3"
  },
  "language_info": {
   "codemirror_mode": {
    "name": "ipython",
    "version": 3
   },
   "file_extension": ".py",
   "mimetype": "text/x-python",
   "name": "python",
   "nbconvert_exporter": "python",
   "pygments_lexer": "ipython3",
   "version": "3.8.5"
  }
 },
 "nbformat": 4,
 "nbformat_minor": 2
}
